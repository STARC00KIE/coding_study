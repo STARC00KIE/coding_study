{
  "nbformat": 4,
  "nbformat_minor": 0,
  "metadata": {
    "colab": {
      "provenance": [],
      "authorship_tag": "ABX9TyN+BH0QlKTGGfNs/AxNV3hf",
      "include_colab_link": true
    },
    "kernelspec": {
      "name": "python3",
      "display_name": "Python 3"
    },
    "language_info": {
      "name": "python"
    }
  },
  "cells": [
    {
      "cell_type": "markdown",
      "metadata": {
        "id": "view-in-github",
        "colab_type": "text"
      },
      "source": [
        "<a href=\"https://colab.research.google.com/github/STARC00KIE/coding_study/blob/main/0429.ipynb\" target=\"_parent\"><img src=\"https://colab.research.google.com/assets/colab-badge.svg\" alt=\"Open In Colab\"/></a>"
      ]
    },
    {
      "cell_type": "code",
      "execution_count": 124,
      "metadata": {
        "id": "32C0F2Yi68gg"
      },
      "outputs": [],
      "source": [
        "members = ['윤하원','손형민','오수성','박지원','조재홍',\n",
        "           '이재권','이상욱','강호현','정송희','서민지',\n",
        "           '이랑','백지윤','류효주','이재현','김종현',\n",
        "           '이대현','이효재','두소진','이득규','김재헌',\n",
        "           '김준영','김영경']"
      ]
    },
    {
      "cell_type": "code",
      "source": [
        "\"\"\"\n",
        "len(members) == 22\n",
        "members[2058%22:2059%22+1] -> 류효주\n",
        "\"\"\"\n",
        "\n",
        "members[(2025+4+29)%len(members):((2025+4+29)%len(members)+1)]"
      ],
      "metadata": {
        "colab": {
          "base_uri": "https://localhost:8080/"
        },
        "id": "Z_8g0q-7-Gaz",
        "outputId": "8ca86585-4cfb-4b1d-85ab-1010e8de8041"
      },
      "execution_count": 125,
      "outputs": [
        {
          "output_type": "execute_result",
          "data": {
            "text/plain": [
              "['류효주']"
            ]
          },
          "metadata": {},
          "execution_count": 125
        }
      ]
    },
    {
      "cell_type": "code",
      "source": [
        "def abc(rad):\n",
        "    param = rad + pi\n",
        "    return param\n",
        "\n",
        "pi = 1\n",
        "param = 0\n",
        "print(abc(10))"
      ],
      "metadata": {
        "colab": {
          "base_uri": "https://localhost:8080/"
        },
        "id": "A8NfoaCuRABJ",
        "outputId": "b9463afd-20df-491b-bf65-087edc60cd38"
      },
      "execution_count": 126,
      "outputs": [
        {
          "output_type": "stream",
          "name": "stdout",
          "text": [
            "11\n"
          ]
        }
      ]
    },
    {
      "cell_type": "markdown",
      "source": [
        "# members 리스트에서 '김'씨만 출력"
      ],
      "metadata": {
        "id": "z9XplxnbvJqI"
      }
    },
    {
      "cell_type": "code",
      "source": [
        "answer = []\n",
        "for name in members:\n",
        "    if name[0] == '김':\n",
        "        answer.append(name)\n",
        "print(answer)"
      ],
      "metadata": {
        "colab": {
          "base_uri": "https://localhost:8080/"
        },
        "id": "wWZv7XBNuhYo",
        "outputId": "4026edb7-1e18-4029-aedc-f843431ea41b"
      },
      "execution_count": 127,
      "outputs": [
        {
          "output_type": "stream",
          "name": "stdout",
          "text": [
            "['김종현', '김재헌', '김준영', '김영경']\n"
          ]
        }
      ]
    },
    {
      "cell_type": "code",
      "source": [
        "for name in members:\n",
        "  print(f'안녕하세요~ 제 이름은 {name}입니다.', end= \"\\t\")"
      ],
      "metadata": {
        "colab": {
          "base_uri": "https://localhost:8080/"
        },
        "id": "7PTNN5k1v5NH",
        "outputId": "f1e541fd-0671-419a-d6db-5ab35088eb94"
      },
      "execution_count": 128,
      "outputs": [
        {
          "output_type": "stream",
          "name": "stdout",
          "text": [
            "안녕하세요~ 제 이름은 윤하원입니다.\t안녕하세요~ 제 이름은 손형민입니다.\t안녕하세요~ 제 이름은 오수성입니다.\t안녕하세요~ 제 이름은 박지원입니다.\t안녕하세요~ 제 이름은 조재홍입니다.\t안녕하세요~ 제 이름은 이재권입니다.\t안녕하세요~ 제 이름은 이상욱입니다.\t안녕하세요~ 제 이름은 강호현입니다.\t안녕하세요~ 제 이름은 정송희입니다.\t안녕하세요~ 제 이름은 서민지입니다.\t안녕하세요~ 제 이름은 이랑입니다.\t안녕하세요~ 제 이름은 백지윤입니다.\t안녕하세요~ 제 이름은 류효주입니다.\t안녕하세요~ 제 이름은 이재현입니다.\t안녕하세요~ 제 이름은 김종현입니다.\t안녕하세요~ 제 이름은 이대현입니다.\t안녕하세요~ 제 이름은 이효재입니다.\t안녕하세요~ 제 이름은 두소진입니다.\t안녕하세요~ 제 이름은 이득규입니다.\t안녕하세요~ 제 이름은 김재헌입니다.\t안녕하세요~ 제 이름은 김준영입니다.\t안녕하세요~ 제 이름은 김영경입니다.\t"
          ]
        }
      ]
    },
    {
      "cell_type": "code",
      "source": [
        "# check 가 1일때의 인덱스 값에 맞는 members 이름 출력\n",
        "check = [1,0,1,1,0,\n",
        "         1,0,0,0,1,\n",
        "         1,1,0,0,1,\n",
        "         1,1,0,0,1,\n",
        "         1,0]\n",
        "\n",
        "lst = []\n",
        "idx = 0\n",
        "for cnt in check:\n",
        "    if cnt == 1:\n",
        "        lst.append(members[idx])\n",
        "    idx += 1\n",
        "\n",
        "print(lst)"
      ],
      "metadata": {
        "colab": {
          "base_uri": "https://localhost:8080/"
        },
        "id": "mk58pi9qxPun",
        "outputId": "25e55096-2b82-44c9-fb56-31780d538e0c"
      },
      "execution_count": 129,
      "outputs": [
        {
          "output_type": "stream",
          "name": "stdout",
          "text": [
            "['윤하원', '오수성', '박지원', '이재권', '서민지', '이랑', '백지윤', '김종현', '이대현', '이효재', '김재헌', '김준영']\n"
          ]
        }
      ]
    },
    {
      "cell_type": "code",
      "source": [
        "# index 함수 사용\n",
        "check = [1,0,1,1,0,\n",
        "         1,0,0,0,1,\n",
        "         1,1,0,0,1,\n",
        "         1,1,0,0,1,\n",
        "         1,0]\n",
        "\n",
        "answer = []\n",
        "for name in members:\n",
        "    if check[members.index(name)] == 1:\n",
        "        answer.append(name)\n",
        "\n",
        "print(answer)"
      ],
      "metadata": {
        "colab": {
          "base_uri": "https://localhost:8080/"
        },
        "id": "KN7aQV_kx7Z4",
        "outputId": "2083ff02-919b-4f98-8939-c533f2728d4d"
      },
      "execution_count": 130,
      "outputs": [
        {
          "output_type": "stream",
          "name": "stdout",
          "text": [
            "['윤하원', '오수성', '박지원', '이재권', '서민지', '이랑', '백지윤', '김종현', '이대현', '이효재', '김재헌', '김준영']\n"
          ]
        }
      ]
    },
    {
      "cell_type": "markdown",
      "source": [
        "# enumerate, zip 함수, 사용자 함수"
      ],
      "metadata": {
        "id": "bvHMs2jjZVMX"
      }
    },
    {
      "cell_type": "code",
      "source": [
        "# enumerate\n",
        "check = [1,0,1,1,0,\n",
        "         1,0,0,0,1,\n",
        "         1,1,0,0,1,\n",
        "         1,1,0,0,1,\n",
        "         1,0]\n",
        "\n",
        "for idx, name in enumerate(members):\n",
        "    if check[idx] == 1:\n",
        "        print(name)"
      ],
      "metadata": {
        "colab": {
          "base_uri": "https://localhost:8080/"
        },
        "id": "DkTkvTLQyfy1",
        "outputId": "c5ec1691-07d4-4ba9-a427-fdac1b265e06"
      },
      "execution_count": 131,
      "outputs": [
        {
          "output_type": "stream",
          "name": "stdout",
          "text": [
            "윤하원\n",
            "오수성\n",
            "박지원\n",
            "이재권\n",
            "서민지\n",
            "이랑\n",
            "백지윤\n",
            "김종현\n",
            "이대현\n",
            "이효재\n",
            "김재헌\n",
            "김준영\n"
          ]
        }
      ]
    },
    {
      "cell_type": "code",
      "source": [
        "# zip 함수 사용\n",
        "for name, chk in zip(members, check):\n",
        "    if chk ==1 :\n",
        "        print(name)"
      ],
      "metadata": {
        "colab": {
          "base_uri": "https://localhost:8080/"
        },
        "id": "ec2GcOnvy6O9",
        "outputId": "a5e25d58-6440-4f35-9b57-8a0f309239fb"
      },
      "execution_count": 132,
      "outputs": [
        {
          "output_type": "stream",
          "name": "stdout",
          "text": [
            "윤하원\n",
            "오수성\n",
            "박지원\n",
            "이재권\n",
            "서민지\n",
            "이랑\n",
            "백지윤\n",
            "김종현\n",
            "이대현\n",
            "이효재\n",
            "김재헌\n",
            "김준영\n"
          ]
        }
      ]
    },
    {
      "cell_type": "code",
      "source": [
        "# 사용자 함수\n",
        "def find_checked_names(names, checks):\n",
        "  retNames = []\n",
        "  for n, c in zip(names, checks):\n",
        "    if c == 1:\n",
        "      retNames.append(n)\n",
        "  return retNames\n",
        "\n",
        "ret = find_checked_names(members, check)\n",
        "print(ret)"
      ],
      "metadata": {
        "colab": {
          "base_uri": "https://localhost:8080/"
        },
        "id": "e6xNZSwt0yut",
        "outputId": "813e10ae-b55e-4836-e5dc-661e07c74f9a"
      },
      "execution_count": 133,
      "outputs": [
        {
          "output_type": "stream",
          "name": "stdout",
          "text": [
            "['윤하원', '오수성', '박지원', '이재권', '서민지', '이랑', '백지윤', '김종현', '이대현', '이효재', '김재헌', '김준영']\n"
          ]
        }
      ]
    },
    {
      "cell_type": "code",
      "source": [
        "def find_checked_names(names, checks, num=1):\n",
        "  retNames = []\n",
        "  for n, c in zip(names, checks):\n",
        "    if c == num:\n",
        "      retNames.append(n)\n",
        "  return retNames\n",
        "\n",
        "ret = find_checked_names(members, check)\n",
        "print(ret)\n",
        "ret = find_checked_names(members, check, 1)\n",
        "print(ret)\n",
        "ret = find_checked_names(members, check, 0)\n",
        "print(ret)"
      ],
      "metadata": {
        "colab": {
          "base_uri": "https://localhost:8080/"
        },
        "id": "GIbG8KiV4W_1",
        "outputId": "4d9ef727-b8ba-4743-d00b-f8bb0fb19d6a"
      },
      "execution_count": 134,
      "outputs": [
        {
          "output_type": "stream",
          "name": "stdout",
          "text": [
            "['윤하원', '오수성', '박지원', '이재권', '서민지', '이랑', '백지윤', '김종현', '이대현', '이효재', '김재헌', '김준영']\n",
            "['윤하원', '오수성', '박지원', '이재권', '서민지', '이랑', '백지윤', '김종현', '이대현', '이효재', '김재헌', '김준영']\n",
            "['손형민', '조재홍', '이상욱', '강호현', '정송희', '류효주', '이재현', '두소진', '이득규', '김영경']\n"
          ]
        }
      ]
    },
    {
      "cell_type": "code",
      "source": [
        "# 직각삼각형 정수 변의 길이 찾기"
      ],
      "metadata": {
        "id": "y5yu7l4EZD9p"
      },
      "execution_count": null,
      "outputs": []
    },
    {
      "cell_type": "code",
      "source": [
        "# 직각삼각형 뽑기\n",
        "# 1~ 30\n",
        "# 30*2 -> 900\n",
        "from math import sqrt\n",
        "zp = 0\n",
        "answer = []\n",
        "for i in range(1,30):\n",
        "    for j in range(1,30):\n",
        "        zp = i**2 + j**2\n",
        "        # zp 의 제곱근이 양수이고, 30 미만인지 확인하고 맞으면 리스트에 i,j,z append\n",
        "        if sqrt(zp).is_integer() and (sqrt(zp) < 30): #  float\n",
        "            answer.append([i, j, int(sqrt(zp))])  # int로 변환해서 저장\n",
        "\n",
        "print(answer)"
      ],
      "metadata": {
        "colab": {
          "base_uri": "https://localhost:8080/"
        },
        "id": "gH--rEvl-tSk",
        "outputId": "3671f1e8-352a-49a7-964a-ecbfbe226207"
      },
      "execution_count": 135,
      "outputs": [
        {
          "output_type": "stream",
          "name": "stdout",
          "text": [
            "[[3, 4, 5], [4, 3, 5], [5, 12, 13], [6, 8, 10], [7, 24, 25], [8, 6, 10], [8, 15, 17], [9, 12, 15], [10, 24, 26], [12, 5, 13], [12, 9, 15], [12, 16, 20], [15, 8, 17], [15, 20, 25], [16, 12, 20], [20, 15, 25], [20, 21, 29], [21, 20, 29], [24, 7, 25], [24, 10, 26]]\n"
          ]
        }
      ]
    },
    {
      "cell_type": "code",
      "source": [
        "# 직각삼각형 뽑기\n",
        "# 정수르 저장하는 메모리를 할당해 줘야 함...\n",
        "# 중첩된 값 제거됨\n",
        "# 1~ 30\n",
        "# 30*2 -> 900\n",
        "from math import sqrt\n",
        "zp = 0\n",
        "answer = []\n",
        "\n",
        "# 시간복잡도 n * (1/2)*n -> O(N^2)\n",
        "for i in range(1,30):\n",
        "    for j in range(i,30): # 중첩된 값 제거됨\n",
        "        zp = i**2 + j**2\n",
        "        # zp 의 제곱근이 양수이고, 30 미만인지 확인하고 맞으면 리스트에 i,j,z append\n",
        "        if sqrt(zp).is_integer() and (sqrt(zp) < 30): #  float\n",
        "            answer.append([i, j, int(sqrt(zp))])  # int로 변환해서 저장\n",
        "\n",
        "print(answer)"
      ],
      "metadata": {
        "colab": {
          "base_uri": "https://localhost:8080/"
        },
        "id": "GEGZm_CfDfGb",
        "outputId": "1cc47a7a-94ef-4d1d-d698-f77983922305"
      },
      "execution_count": 136,
      "outputs": [
        {
          "output_type": "stream",
          "name": "stdout",
          "text": [
            "[[3, 4, 5], [5, 12, 13], [6, 8, 10], [7, 24, 25], [8, 15, 17], [9, 12, 15], [10, 24, 26], [12, 16, 20], [15, 20, 25], [20, 21, 29]]\n"
          ]
        }
      ]
    },
    {
      "cell_type": "code",
      "source": [
        "zp = 0\n",
        "answer = []\n",
        "\n",
        "# 시간복잡도 n * (1/2)*n -> O(N^2)\n",
        "for i in range(1,30):\n",
        "    for j in range(i,30): # 중첩된 값 제거됨\n",
        "        z = (i**2 + j**2)**(1/2)\n",
        "        zi = int(z)\n",
        "        if ((z==zi) and z < 30):\n",
        "            answer.append([i,j,zi])\n",
        "\n",
        "print(answer)"
      ],
      "metadata": {
        "colab": {
          "base_uri": "https://localhost:8080/"
        },
        "id": "rshw2gdTGcfS",
        "outputId": "012c6918-9d51-4960-d7cc-e9fc5065d01a"
      },
      "execution_count": 137,
      "outputs": [
        {
          "output_type": "stream",
          "name": "stdout",
          "text": [
            "[[3, 4, 5], [5, 12, 13], [6, 8, 10], [7, 24, 25], [8, 15, 17], [9, 12, 15], [10, 24, 26], [12, 16, 20], [15, 20, 25], [20, 21, 29]]\n"
          ]
        }
      ]
    },
    {
      "cell_type": "code",
      "source": [
        "# 리스트 컴프리헨션\n",
        "# 최적화된 코드라 더 좋음\n",
        "rtgs = [[x,y,z] for x in range(1,30)\n",
        "                for y in range(x,30)\n",
        "                for z in range(y, 30) if (x*x + y*y == z*z)]\n",
        "print(rtgs)"
      ],
      "metadata": {
        "colab": {
          "base_uri": "https://localhost:8080/"
        },
        "id": "BTsmPbN2I16T",
        "outputId": "f50776c5-56a8-42db-a0a6-a4f2a05e4525"
      },
      "execution_count": 138,
      "outputs": [
        {
          "output_type": "stream",
          "name": "stdout",
          "text": [
            "[[3, 4, 5], [5, 12, 13], [6, 8, 10], [7, 24, 25], [8, 15, 17], [9, 12, 15], [10, 24, 26], [12, 16, 20], [15, 20, 25], [20, 21, 29]]\n"
          ]
        }
      ]
    },
    {
      "cell_type": "markdown",
      "source": [
        "# 3. 리스트에서 가장 많이 등장한 숫자와 등장 횟수 세기"
      ],
      "metadata": {
        "id": "cvFHdY5HYeXo"
      }
    },
    {
      "cell_type": "code",
      "source": [
        "# 방법 1\n",
        "# 리스트 생성: 0~19 + 0~4 + 1~19 홀수\n",
        "# count 함수 기억하기\n",
        "testlst = [x for x in range(20)] + [x for x in range(5)] + [x for x in range(1, 20, 2)]\n",
        "\n",
        "# 중복 제거 후 정렬\n",
        "test = sorted(list(set(testlst)))\n",
        "\n",
        "# 등장 횟수를 저장할 리스트\n",
        "cntlst = []\n",
        "\n",
        "# 최종 답을 저장할 리스트\n",
        "answer = []\n",
        "\n",
        "# 각 숫자가 testlst에서 몇 번 나왔는지 카운트\n",
        "cntlst = [testlst.count(x) for x in test]\n",
        "\n",
        "# 가장 많이 등장한 횟수 찾기\n",
        "m = max(cntlst)\n",
        "\n",
        "# 가장 많이 등장한 숫자의 인덱스들 찾기\n",
        "idxlst = [index for index, val in enumerate(cntlst) if val == m]\n",
        "\n",
        "# 인덱스를 이용해 해당 숫자들(answer)을 모으기\n",
        "for idx in idxlst:\n",
        "    answer.append(test[idx])\n",
        "\n",
        "# 최종 출력: 가장 많이 등장한 숫자 리스트와 등장 횟수\n",
        "print(answer, m)"
      ],
      "metadata": {
        "colab": {
          "base_uri": "https://localhost:8080/"
        },
        "id": "_SVVLkfSMqfq",
        "outputId": "dc5ba234-fe09-4ca6-e337-430957743b86"
      },
      "execution_count": 17,
      "outputs": [
        {
          "output_type": "stream",
          "name": "stdout",
          "text": [
            "[1, 3] 3\n"
          ]
        }
      ]
    },
    {
      "cell_type": "code",
      "source": [
        "# 방법 2 -> 리스트 컴프리헨션 연습\n",
        "\n",
        "print([sorted(list(set(([x for x in range(20)] + [x for x in range(5)] + [x for x in range(1,20,2)]))))[idx]\n",
        "       for idx in [index for index, val in enumerate([([x for x in range(20)] + [x for x in range(5)] + [x for x in range(1,20,2)]).count(x)\n",
        "       for x in sorted(list(set([x for x in range(20)] + [x for x in range(5)] + [x for x in range(1, 20, 2)])))])\n",
        "       if val == max([([x for x in range(20)] + [x for x in range(5)] + [x for x in range(1,20,2)]).count(x)\n",
        "       for x in sorted(list(set([x for x in range(20)] + [x for x in range(5)] + [x for x in range(1, 20, 2)]\n",
        ")))])]], max([([x for x in range(20)] + [x for x in range(5)] + [x for x in range(1,20,2)]).count(x)\n",
        "       for x in sorted(list(set([x for x in range(20)] + [x for x in range(5)] + [x for x in range(1, 20, 2)]\n",
        ")))]))"
      ],
      "metadata": {
        "colab": {
          "base_uri": "https://localhost:8080/"
        },
        "id": "NJ8B3P6XS0yg",
        "outputId": "c4415150-9764-4d6e-cc0c-ac275daef4f3"
      },
      "execution_count": 14,
      "outputs": [
        {
          "output_type": "stream",
          "name": "stdout",
          "text": [
            "[1, 3] 3\n"
          ]
        }
      ]
    },
    {
      "cell_type": "code",
      "source": [
        "# 방법 3\n",
        "testlst = [x for x in range(20)] + [x for x in range(5)] + [x for x in range(1,20,2)]\n",
        "used = []\n",
        "for i in testlst:\n",
        "  if i not in used:\n",
        "    used.append(i)\n",
        "\n",
        "def find_maxValue_maxCount(lst):\n",
        "  maxValue = 0\n",
        "  maxCnt = 0\n",
        "  for i in set(lst):\n",
        "    if maxCnt <= lst.count(i):\n",
        "      maxCnt = lst.count(i)\n",
        "      maxValue = i\n",
        "  return maxValue, maxCnt\n",
        "print(find_maxValue_maxCount(testlst))"
      ],
      "metadata": {
        "colab": {
          "base_uri": "https://localhost:8080/"
        },
        "id": "MpozYGczWATZ",
        "outputId": "6b03106b-1e00-45f5-8447-6de58e6d2ce0"
      },
      "execution_count": 8,
      "outputs": [
        {
          "output_type": "stream",
          "name": "stdout",
          "text": [
            "(3, 3)\n"
          ]
        }
      ]
    },
    {
      "cell_type": "code",
      "source": [
        "# 방법 4\n",
        "# 리스트 생성: 0~19 + 0~4 + 1~19 홀수\n",
        "testlst = [x for x in range(20)] + [x for x in range(5)] + [x for x in range(1, 20, 2)]\n",
        "\n",
        "# 중복 제거 후 정렬\n",
        "\n",
        "def find_maxValue_maxCount(lst):\n",
        "    test = sorted(list(set(lst)))\n",
        "\n",
        "    # 등장 횟수를 저장할 리스트\n",
        "    cntlst = []\n",
        "    # 최종 답을 저장할 리스트\n",
        "    answer = []\n",
        "\n",
        "    # 각 숫자가 lst 몇 번 나왔는지 카운트\n",
        "    cntlst = [lst.count(x) for x in test]\n",
        "\n",
        "    # 가장 많이 등장한 횟수 찾기\n",
        "    m = max(cntlst)\n",
        "    # 가장 많이 등장한 숫자의 인덱스들 찾기\n",
        "    idxlst = [index for index, val in enumerate(cntlst) if val == m]\n",
        "    # 인덱스를 이용해 해당 숫자들(answer)을 모으기\n",
        "    for idx in idxlst:\n",
        "        answer.append(test[idx])\n",
        "\n",
        "    return answer, m\n",
        "\n",
        "print(find_maxValue_maxCount(testlst))"
      ],
      "metadata": {
        "colab": {
          "base_uri": "https://localhost:8080/"
        },
        "id": "oeeHxyNUWijR",
        "outputId": "52c41eb8-7822-43e6-b99a-f0543c4de83d"
      },
      "execution_count": 18,
      "outputs": [
        {
          "output_type": "stream",
          "name": "stdout",
          "text": [
            "([1, 3], 3)\n"
          ]
        }
      ]
    }
  ]
}